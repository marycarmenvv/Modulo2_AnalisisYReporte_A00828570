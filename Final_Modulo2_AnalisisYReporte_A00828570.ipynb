{
  "nbformat": 4,
  "nbformat_minor": 0,
  "metadata": {
    "colab": {
      "provenance": [],
      "mount_file_id": "1x74FLQnUWjioqxGjrdQGWEaC---cbGuj",
      "authorship_tag": "ABX9TyMqXRNqgQRC20SOoyP36p1J",
      "include_colab_link": true
    },
    "kernelspec": {
      "name": "python3",
      "display_name": "Python 3"
    },
    "language_info": {
      "name": "python"
    }
  },
  "cells": [
    {
      "cell_type": "markdown",
      "metadata": {
        "id": "view-in-github",
        "colab_type": "text"
      },
      "source": [
        "<a href=\"https://colab.research.google.com/github/marycarmenvv/Modulo2_AnalisisYReporte_A00828570/blob/main/Final_Modulo2_AnalisisYReporte_A00828570.ipynb\" target=\"_parent\"><img src=\"https://colab.research.google.com/assets/colab-badge.svg\" alt=\"Open In Colab\"/></a>"
      ]
    },
    {
      "cell_type": "markdown",
      "source": [
        "# **Momento de Retroalimentación: Módulo 2 Análisis y Reporte sobre el desempeño del modelo. (Portafolio Análisis)**\n",
        "# María del Carmen Vargas Villarreal A00828570\n"
      ],
      "metadata": {
        "id": "3qRZ8hFrOpSc"
      }
    },
    {
      "cell_type": "code",
      "execution_count": 1,
      "metadata": {
        "id": "I5dTGyLsNThu"
      },
      "outputs": [],
      "source": [
        "import numpy as np\n",
        "import pandas as pd\n",
        "import seaborn as sns\n",
        "\n",
        "from sklearn.model_selection import train_test_split\n",
        "from sklearn import metrics\n",
        "from sklearn.metrics import confusion_matrix\n",
        "from sklearn.metrics import accuracy_score\n",
        "\n",
        "from sklearn.tree import DecisionTreeClassifier\n",
        "from sklearn import tree\n",
        "from sklearn import preprocessing\n",
        "from IPython.display import Image\n",
        "import pydotplus\n",
        "import matplotlib.pyplot as plt\n",
        "from matplotlib import pyplot\n"
      ]
    },
    {
      "cell_type": "markdown",
      "source": [
        "Cargamos data set \"Wine\""
      ],
      "metadata": {
        "id": "uTlk4DkFPJUE"
      }
    },
    {
      "cell_type": "code",
      "source": [
        "import pandas as pd # importar libreria\n",
        "\n",
        "columns = [\"Classification\", \"Alcohol\",\"Malic acid\",\"Ash\",\"Alcalinity of ash\", \"Magnesium\", \"Total phenols\", \"Flavanoids\", \"Nonflavanoid phenols\"\n",
        " \t,\"Proanthocyanins\", \"Color intensity\", \"Hue\", \"OD280/OD315 of diluted wines\", \"Proline\"]\n",
        "\n",
        "df1 = pd.read_csv('/content/drive/MyDrive/Colab Notebooks/Copia de wine.data', names= columns).reset_index()\n",
        "df1 = df1.drop(['index'], axis=1) # abrir el archivo de datos con los nombres dados para las columnas\n",
        "df1.head() "
      ],
      "metadata": {
        "id": "MX60-l6GTwmp",
        "colab": {
          "base_uri": "https://localhost:8080/",
          "height": 285
        },
        "outputId": "41c08e10-8457-4791-f6f8-2ff894859cf3"
      },
      "execution_count": 2,
      "outputs": [
        {
          "output_type": "execute_result",
          "data": {
            "text/plain": [
              "   Classification  Alcohol  Malic acid   Ash  Alcalinity of ash  Magnesium  \\\n",
              "0               1    14.23        1.71  2.43               15.6        127   \n",
              "1               1    13.20        1.78  2.14               11.2        100   \n",
              "2               1    13.16        2.36  2.67               18.6        101   \n",
              "3               1    14.37        1.95  2.50               16.8        113   \n",
              "4               1    13.24        2.59  2.87               21.0        118   \n",
              "\n",
              "   Total phenols  Flavanoids  Nonflavanoid phenols  Proanthocyanins  \\\n",
              "0           2.80        3.06                  0.28             2.29   \n",
              "1           2.65        2.76                  0.26             1.28   \n",
              "2           2.80        3.24                  0.30             2.81   \n",
              "3           3.85        3.49                  0.24             2.18   \n",
              "4           2.80        2.69                  0.39             1.82   \n",
              "\n",
              "   Color intensity   Hue  OD280/OD315 of diluted wines  Proline  \n",
              "0             5.64  1.04                          3.92     1065  \n",
              "1             4.38  1.05                          3.40     1050  \n",
              "2             5.68  1.03                          3.17     1185  \n",
              "3             7.80  0.86                          3.45     1480  \n",
              "4             4.32  1.04                          2.93      735  "
            ],
            "text/html": [
              "\n",
              "  <div id=\"df-a5d3b787-7464-470b-ab6d-9d64de655142\">\n",
              "    <div class=\"colab-df-container\">\n",
              "      <div>\n",
              "<style scoped>\n",
              "    .dataframe tbody tr th:only-of-type {\n",
              "        vertical-align: middle;\n",
              "    }\n",
              "\n",
              "    .dataframe tbody tr th {\n",
              "        vertical-align: top;\n",
              "    }\n",
              "\n",
              "    .dataframe thead th {\n",
              "        text-align: right;\n",
              "    }\n",
              "</style>\n",
              "<table border=\"1\" class=\"dataframe\">\n",
              "  <thead>\n",
              "    <tr style=\"text-align: right;\">\n",
              "      <th></th>\n",
              "      <th>Classification</th>\n",
              "      <th>Alcohol</th>\n",
              "      <th>Malic acid</th>\n",
              "      <th>Ash</th>\n",
              "      <th>Alcalinity of ash</th>\n",
              "      <th>Magnesium</th>\n",
              "      <th>Total phenols</th>\n",
              "      <th>Flavanoids</th>\n",
              "      <th>Nonflavanoid phenols</th>\n",
              "      <th>Proanthocyanins</th>\n",
              "      <th>Color intensity</th>\n",
              "      <th>Hue</th>\n",
              "      <th>OD280/OD315 of diluted wines</th>\n",
              "      <th>Proline</th>\n",
              "    </tr>\n",
              "  </thead>\n",
              "  <tbody>\n",
              "    <tr>\n",
              "      <th>0</th>\n",
              "      <td>1</td>\n",
              "      <td>14.23</td>\n",
              "      <td>1.71</td>\n",
              "      <td>2.43</td>\n",
              "      <td>15.6</td>\n",
              "      <td>127</td>\n",
              "      <td>2.80</td>\n",
              "      <td>3.06</td>\n",
              "      <td>0.28</td>\n",
              "      <td>2.29</td>\n",
              "      <td>5.64</td>\n",
              "      <td>1.04</td>\n",
              "      <td>3.92</td>\n",
              "      <td>1065</td>\n",
              "    </tr>\n",
              "    <tr>\n",
              "      <th>1</th>\n",
              "      <td>1</td>\n",
              "      <td>13.20</td>\n",
              "      <td>1.78</td>\n",
              "      <td>2.14</td>\n",
              "      <td>11.2</td>\n",
              "      <td>100</td>\n",
              "      <td>2.65</td>\n",
              "      <td>2.76</td>\n",
              "      <td>0.26</td>\n",
              "      <td>1.28</td>\n",
              "      <td>4.38</td>\n",
              "      <td>1.05</td>\n",
              "      <td>3.40</td>\n",
              "      <td>1050</td>\n",
              "    </tr>\n",
              "    <tr>\n",
              "      <th>2</th>\n",
              "      <td>1</td>\n",
              "      <td>13.16</td>\n",
              "      <td>2.36</td>\n",
              "      <td>2.67</td>\n",
              "      <td>18.6</td>\n",
              "      <td>101</td>\n",
              "      <td>2.80</td>\n",
              "      <td>3.24</td>\n",
              "      <td>0.30</td>\n",
              "      <td>2.81</td>\n",
              "      <td>5.68</td>\n",
              "      <td>1.03</td>\n",
              "      <td>3.17</td>\n",
              "      <td>1185</td>\n",
              "    </tr>\n",
              "    <tr>\n",
              "      <th>3</th>\n",
              "      <td>1</td>\n",
              "      <td>14.37</td>\n",
              "      <td>1.95</td>\n",
              "      <td>2.50</td>\n",
              "      <td>16.8</td>\n",
              "      <td>113</td>\n",
              "      <td>3.85</td>\n",
              "      <td>3.49</td>\n",
              "      <td>0.24</td>\n",
              "      <td>2.18</td>\n",
              "      <td>7.80</td>\n",
              "      <td>0.86</td>\n",
              "      <td>3.45</td>\n",
              "      <td>1480</td>\n",
              "    </tr>\n",
              "    <tr>\n",
              "      <th>4</th>\n",
              "      <td>1</td>\n",
              "      <td>13.24</td>\n",
              "      <td>2.59</td>\n",
              "      <td>2.87</td>\n",
              "      <td>21.0</td>\n",
              "      <td>118</td>\n",
              "      <td>2.80</td>\n",
              "      <td>2.69</td>\n",
              "      <td>0.39</td>\n",
              "      <td>1.82</td>\n",
              "      <td>4.32</td>\n",
              "      <td>1.04</td>\n",
              "      <td>2.93</td>\n",
              "      <td>735</td>\n",
              "    </tr>\n",
              "  </tbody>\n",
              "</table>\n",
              "</div>\n",
              "      <button class=\"colab-df-convert\" onclick=\"convertToInteractive('df-a5d3b787-7464-470b-ab6d-9d64de655142')\"\n",
              "              title=\"Convert this dataframe to an interactive table.\"\n",
              "              style=\"display:none;\">\n",
              "        \n",
              "  <svg xmlns=\"http://www.w3.org/2000/svg\" height=\"24px\"viewBox=\"0 0 24 24\"\n",
              "       width=\"24px\">\n",
              "    <path d=\"M0 0h24v24H0V0z\" fill=\"none\"/>\n",
              "    <path d=\"M18.56 5.44l.94 2.06.94-2.06 2.06-.94-2.06-.94-.94-2.06-.94 2.06-2.06.94zm-11 1L8.5 8.5l.94-2.06 2.06-.94-2.06-.94L8.5 2.5l-.94 2.06-2.06.94zm10 10l.94 2.06.94-2.06 2.06-.94-2.06-.94-.94-2.06-.94 2.06-2.06.94z\"/><path d=\"M17.41 7.96l-1.37-1.37c-.4-.4-.92-.59-1.43-.59-.52 0-1.04.2-1.43.59L10.3 9.45l-7.72 7.72c-.78.78-.78 2.05 0 2.83L4 21.41c.39.39.9.59 1.41.59.51 0 1.02-.2 1.41-.59l7.78-7.78 2.81-2.81c.8-.78.8-2.07 0-2.86zM5.41 20L4 18.59l7.72-7.72 1.47 1.35L5.41 20z\"/>\n",
              "  </svg>\n",
              "      </button>\n",
              "      \n",
              "  <style>\n",
              "    .colab-df-container {\n",
              "      display:flex;\n",
              "      flex-wrap:wrap;\n",
              "      gap: 12px;\n",
              "    }\n",
              "\n",
              "    .colab-df-convert {\n",
              "      background-color: #E8F0FE;\n",
              "      border: none;\n",
              "      border-radius: 50%;\n",
              "      cursor: pointer;\n",
              "      display: none;\n",
              "      fill: #1967D2;\n",
              "      height: 32px;\n",
              "      padding: 0 0 0 0;\n",
              "      width: 32px;\n",
              "    }\n",
              "\n",
              "    .colab-df-convert:hover {\n",
              "      background-color: #E2EBFA;\n",
              "      box-shadow: 0px 1px 2px rgba(60, 64, 67, 0.3), 0px 1px 3px 1px rgba(60, 64, 67, 0.15);\n",
              "      fill: #174EA6;\n",
              "    }\n",
              "\n",
              "    [theme=dark] .colab-df-convert {\n",
              "      background-color: #3B4455;\n",
              "      fill: #D2E3FC;\n",
              "    }\n",
              "\n",
              "    [theme=dark] .colab-df-convert:hover {\n",
              "      background-color: #434B5C;\n",
              "      box-shadow: 0px 1px 3px 1px rgba(0, 0, 0, 0.15);\n",
              "      filter: drop-shadow(0px 1px 2px rgba(0, 0, 0, 0.3));\n",
              "      fill: #FFFFFF;\n",
              "    }\n",
              "  </style>\n",
              "\n",
              "      <script>\n",
              "        const buttonEl =\n",
              "          document.querySelector('#df-a5d3b787-7464-470b-ab6d-9d64de655142 button.colab-df-convert');\n",
              "        buttonEl.style.display =\n",
              "          google.colab.kernel.accessAllowed ? 'block' : 'none';\n",
              "\n",
              "        async function convertToInteractive(key) {\n",
              "          const element = document.querySelector('#df-a5d3b787-7464-470b-ab6d-9d64de655142');\n",
              "          const dataTable =\n",
              "            await google.colab.kernel.invokeFunction('convertToInteractive',\n",
              "                                                     [key], {});\n",
              "          if (!dataTable) return;\n",
              "\n",
              "          const docLinkHtml = 'Like what you see? Visit the ' +\n",
              "            '<a target=\"_blank\" href=https://colab.research.google.com/notebooks/data_table.ipynb>data table notebook</a>'\n",
              "            + ' to learn more about interactive tables.';\n",
              "          element.innerHTML = '';\n",
              "          dataTable['output_type'] = 'display_data';\n",
              "          await google.colab.output.renderOutput(dataTable, element);\n",
              "          const docLink = document.createElement('div');\n",
              "          docLink.innerHTML = docLinkHtml;\n",
              "          element.appendChild(docLink);\n",
              "        }\n",
              "      </script>\n",
              "    </div>\n",
              "  </div>\n",
              "  "
            ]
          },
          "metadata": {},
          "execution_count": 2
        }
      ]
    },
    {
      "cell_type": "markdown",
      "source": [
        "# 1. Separación y evaluación del modelo con un conjunto de prueba y un conjunto de validación (Train/Test/Validation)."
      ],
      "metadata": {
        "id": "8eD2FajuUgXq"
      }
    },
    {
      "cell_type": "code",
      "source": [
        "df1['Classification']"
      ],
      "metadata": {
        "id": "wmVv42A-Twx2",
        "colab": {
          "base_uri": "https://localhost:8080/"
        },
        "outputId": "caa01397-0dc8-4c84-c5f9-6b433608ec9c"
      },
      "execution_count": 3,
      "outputs": [
        {
          "output_type": "execute_result",
          "data": {
            "text/plain": [
              "0      1\n",
              "1      1\n",
              "2      1\n",
              "3      1\n",
              "4      1\n",
              "      ..\n",
              "173    3\n",
              "174    3\n",
              "175    3\n",
              "176    3\n",
              "177    3\n",
              "Name: Classification, Length: 178, dtype: int64"
            ]
          },
          "metadata": {},
          "execution_count": 3
        }
      ]
    },
    {
      "cell_type": "code",
      "source": [
        "df1.Classification.unique()\n"
      ],
      "metadata": {
        "colab": {
          "base_uri": "https://localhost:8080/"
        },
        "id": "Y7tEM67d-m7k",
        "outputId": "eea5f869-88db-4feb-d333-679f3a3135fe"
      },
      "execution_count": 4,
      "outputs": [
        {
          "output_type": "execute_result",
          "data": {
            "text/plain": [
              "array([1, 2, 3])"
            ]
          },
          "metadata": {},
          "execution_count": 4
        }
      ]
    },
    {
      "cell_type": "code",
      "source": [
        "df_x = df1.drop([\"Classification\"], axis=1)\n",
        "df_y = df1[\"Classification\"]\n",
        "\n",
        "df_x"
      ],
      "metadata": {
        "colab": {
          "base_uri": "https://localhost:8080/",
          "height": 485
        },
        "id": "ALXA5MS6-5Aa",
        "outputId": "958cbc42-51d2-4a85-8c28-7a928d45dcfe"
      },
      "execution_count": 5,
      "outputs": [
        {
          "output_type": "execute_result",
          "data": {
            "text/plain": [
              "     Alcohol  Malic acid   Ash  Alcalinity of ash  Magnesium  Total phenols  \\\n",
              "0      14.23        1.71  2.43               15.6        127           2.80   \n",
              "1      13.20        1.78  2.14               11.2        100           2.65   \n",
              "2      13.16        2.36  2.67               18.6        101           2.80   \n",
              "3      14.37        1.95  2.50               16.8        113           3.85   \n",
              "4      13.24        2.59  2.87               21.0        118           2.80   \n",
              "..       ...         ...   ...                ...        ...            ...   \n",
              "173    13.71        5.65  2.45               20.5         95           1.68   \n",
              "174    13.40        3.91  2.48               23.0        102           1.80   \n",
              "175    13.27        4.28  2.26               20.0        120           1.59   \n",
              "176    13.17        2.59  2.37               20.0        120           1.65   \n",
              "177    14.13        4.10  2.74               24.5         96           2.05   \n",
              "\n",
              "     Flavanoids  Nonflavanoid phenols  Proanthocyanins  Color intensity   Hue  \\\n",
              "0          3.06                  0.28             2.29             5.64  1.04   \n",
              "1          2.76                  0.26             1.28             4.38  1.05   \n",
              "2          3.24                  0.30             2.81             5.68  1.03   \n",
              "3          3.49                  0.24             2.18             7.80  0.86   \n",
              "4          2.69                  0.39             1.82             4.32  1.04   \n",
              "..          ...                   ...              ...              ...   ...   \n",
              "173        0.61                  0.52             1.06             7.70  0.64   \n",
              "174        0.75                  0.43             1.41             7.30  0.70   \n",
              "175        0.69                  0.43             1.35            10.20  0.59   \n",
              "176        0.68                  0.53             1.46             9.30  0.60   \n",
              "177        0.76                  0.56             1.35             9.20  0.61   \n",
              "\n",
              "     OD280/OD315 of diluted wines  Proline  \n",
              "0                            3.92     1065  \n",
              "1                            3.40     1050  \n",
              "2                            3.17     1185  \n",
              "3                            3.45     1480  \n",
              "4                            2.93      735  \n",
              "..                            ...      ...  \n",
              "173                          1.74      740  \n",
              "174                          1.56      750  \n",
              "175                          1.56      835  \n",
              "176                          1.62      840  \n",
              "177                          1.60      560  \n",
              "\n",
              "[178 rows x 13 columns]"
            ],
            "text/html": [
              "\n",
              "  <div id=\"df-b01f2984-87b5-4bfb-9e09-d87112f7f9b5\">\n",
              "    <div class=\"colab-df-container\">\n",
              "      <div>\n",
              "<style scoped>\n",
              "    .dataframe tbody tr th:only-of-type {\n",
              "        vertical-align: middle;\n",
              "    }\n",
              "\n",
              "    .dataframe tbody tr th {\n",
              "        vertical-align: top;\n",
              "    }\n",
              "\n",
              "    .dataframe thead th {\n",
              "        text-align: right;\n",
              "    }\n",
              "</style>\n",
              "<table border=\"1\" class=\"dataframe\">\n",
              "  <thead>\n",
              "    <tr style=\"text-align: right;\">\n",
              "      <th></th>\n",
              "      <th>Alcohol</th>\n",
              "      <th>Malic acid</th>\n",
              "      <th>Ash</th>\n",
              "      <th>Alcalinity of ash</th>\n",
              "      <th>Magnesium</th>\n",
              "      <th>Total phenols</th>\n",
              "      <th>Flavanoids</th>\n",
              "      <th>Nonflavanoid phenols</th>\n",
              "      <th>Proanthocyanins</th>\n",
              "      <th>Color intensity</th>\n",
              "      <th>Hue</th>\n",
              "      <th>OD280/OD315 of diluted wines</th>\n",
              "      <th>Proline</th>\n",
              "    </tr>\n",
              "  </thead>\n",
              "  <tbody>\n",
              "    <tr>\n",
              "      <th>0</th>\n",
              "      <td>14.23</td>\n",
              "      <td>1.71</td>\n",
              "      <td>2.43</td>\n",
              "      <td>15.6</td>\n",
              "      <td>127</td>\n",
              "      <td>2.80</td>\n",
              "      <td>3.06</td>\n",
              "      <td>0.28</td>\n",
              "      <td>2.29</td>\n",
              "      <td>5.64</td>\n",
              "      <td>1.04</td>\n",
              "      <td>3.92</td>\n",
              "      <td>1065</td>\n",
              "    </tr>\n",
              "    <tr>\n",
              "      <th>1</th>\n",
              "      <td>13.20</td>\n",
              "      <td>1.78</td>\n",
              "      <td>2.14</td>\n",
              "      <td>11.2</td>\n",
              "      <td>100</td>\n",
              "      <td>2.65</td>\n",
              "      <td>2.76</td>\n",
              "      <td>0.26</td>\n",
              "      <td>1.28</td>\n",
              "      <td>4.38</td>\n",
              "      <td>1.05</td>\n",
              "      <td>3.40</td>\n",
              "      <td>1050</td>\n",
              "    </tr>\n",
              "    <tr>\n",
              "      <th>2</th>\n",
              "      <td>13.16</td>\n",
              "      <td>2.36</td>\n",
              "      <td>2.67</td>\n",
              "      <td>18.6</td>\n",
              "      <td>101</td>\n",
              "      <td>2.80</td>\n",
              "      <td>3.24</td>\n",
              "      <td>0.30</td>\n",
              "      <td>2.81</td>\n",
              "      <td>5.68</td>\n",
              "      <td>1.03</td>\n",
              "      <td>3.17</td>\n",
              "      <td>1185</td>\n",
              "    </tr>\n",
              "    <tr>\n",
              "      <th>3</th>\n",
              "      <td>14.37</td>\n",
              "      <td>1.95</td>\n",
              "      <td>2.50</td>\n",
              "      <td>16.8</td>\n",
              "      <td>113</td>\n",
              "      <td>3.85</td>\n",
              "      <td>3.49</td>\n",
              "      <td>0.24</td>\n",
              "      <td>2.18</td>\n",
              "      <td>7.80</td>\n",
              "      <td>0.86</td>\n",
              "      <td>3.45</td>\n",
              "      <td>1480</td>\n",
              "    </tr>\n",
              "    <tr>\n",
              "      <th>4</th>\n",
              "      <td>13.24</td>\n",
              "      <td>2.59</td>\n",
              "      <td>2.87</td>\n",
              "      <td>21.0</td>\n",
              "      <td>118</td>\n",
              "      <td>2.80</td>\n",
              "      <td>2.69</td>\n",
              "      <td>0.39</td>\n",
              "      <td>1.82</td>\n",
              "      <td>4.32</td>\n",
              "      <td>1.04</td>\n",
              "      <td>2.93</td>\n",
              "      <td>735</td>\n",
              "    </tr>\n",
              "    <tr>\n",
              "      <th>...</th>\n",
              "      <td>...</td>\n",
              "      <td>...</td>\n",
              "      <td>...</td>\n",
              "      <td>...</td>\n",
              "      <td>...</td>\n",
              "      <td>...</td>\n",
              "      <td>...</td>\n",
              "      <td>...</td>\n",
              "      <td>...</td>\n",
              "      <td>...</td>\n",
              "      <td>...</td>\n",
              "      <td>...</td>\n",
              "      <td>...</td>\n",
              "    </tr>\n",
              "    <tr>\n",
              "      <th>173</th>\n",
              "      <td>13.71</td>\n",
              "      <td>5.65</td>\n",
              "      <td>2.45</td>\n",
              "      <td>20.5</td>\n",
              "      <td>95</td>\n",
              "      <td>1.68</td>\n",
              "      <td>0.61</td>\n",
              "      <td>0.52</td>\n",
              "      <td>1.06</td>\n",
              "      <td>7.70</td>\n",
              "      <td>0.64</td>\n",
              "      <td>1.74</td>\n",
              "      <td>740</td>\n",
              "    </tr>\n",
              "    <tr>\n",
              "      <th>174</th>\n",
              "      <td>13.40</td>\n",
              "      <td>3.91</td>\n",
              "      <td>2.48</td>\n",
              "      <td>23.0</td>\n",
              "      <td>102</td>\n",
              "      <td>1.80</td>\n",
              "      <td>0.75</td>\n",
              "      <td>0.43</td>\n",
              "      <td>1.41</td>\n",
              "      <td>7.30</td>\n",
              "      <td>0.70</td>\n",
              "      <td>1.56</td>\n",
              "      <td>750</td>\n",
              "    </tr>\n",
              "    <tr>\n",
              "      <th>175</th>\n",
              "      <td>13.27</td>\n",
              "      <td>4.28</td>\n",
              "      <td>2.26</td>\n",
              "      <td>20.0</td>\n",
              "      <td>120</td>\n",
              "      <td>1.59</td>\n",
              "      <td>0.69</td>\n",
              "      <td>0.43</td>\n",
              "      <td>1.35</td>\n",
              "      <td>10.20</td>\n",
              "      <td>0.59</td>\n",
              "      <td>1.56</td>\n",
              "      <td>835</td>\n",
              "    </tr>\n",
              "    <tr>\n",
              "      <th>176</th>\n",
              "      <td>13.17</td>\n",
              "      <td>2.59</td>\n",
              "      <td>2.37</td>\n",
              "      <td>20.0</td>\n",
              "      <td>120</td>\n",
              "      <td>1.65</td>\n",
              "      <td>0.68</td>\n",
              "      <td>0.53</td>\n",
              "      <td>1.46</td>\n",
              "      <td>9.30</td>\n",
              "      <td>0.60</td>\n",
              "      <td>1.62</td>\n",
              "      <td>840</td>\n",
              "    </tr>\n",
              "    <tr>\n",
              "      <th>177</th>\n",
              "      <td>14.13</td>\n",
              "      <td>4.10</td>\n",
              "      <td>2.74</td>\n",
              "      <td>24.5</td>\n",
              "      <td>96</td>\n",
              "      <td>2.05</td>\n",
              "      <td>0.76</td>\n",
              "      <td>0.56</td>\n",
              "      <td>1.35</td>\n",
              "      <td>9.20</td>\n",
              "      <td>0.61</td>\n",
              "      <td>1.60</td>\n",
              "      <td>560</td>\n",
              "    </tr>\n",
              "  </tbody>\n",
              "</table>\n",
              "<p>178 rows × 13 columns</p>\n",
              "</div>\n",
              "      <button class=\"colab-df-convert\" onclick=\"convertToInteractive('df-b01f2984-87b5-4bfb-9e09-d87112f7f9b5')\"\n",
              "              title=\"Convert this dataframe to an interactive table.\"\n",
              "              style=\"display:none;\">\n",
              "        \n",
              "  <svg xmlns=\"http://www.w3.org/2000/svg\" height=\"24px\"viewBox=\"0 0 24 24\"\n",
              "       width=\"24px\">\n",
              "    <path d=\"M0 0h24v24H0V0z\" fill=\"none\"/>\n",
              "    <path d=\"M18.56 5.44l.94 2.06.94-2.06 2.06-.94-2.06-.94-.94-2.06-.94 2.06-2.06.94zm-11 1L8.5 8.5l.94-2.06 2.06-.94-2.06-.94L8.5 2.5l-.94 2.06-2.06.94zm10 10l.94 2.06.94-2.06 2.06-.94-2.06-.94-.94-2.06-.94 2.06-2.06.94z\"/><path d=\"M17.41 7.96l-1.37-1.37c-.4-.4-.92-.59-1.43-.59-.52 0-1.04.2-1.43.59L10.3 9.45l-7.72 7.72c-.78.78-.78 2.05 0 2.83L4 21.41c.39.39.9.59 1.41.59.51 0 1.02-.2 1.41-.59l7.78-7.78 2.81-2.81c.8-.78.8-2.07 0-2.86zM5.41 20L4 18.59l7.72-7.72 1.47 1.35L5.41 20z\"/>\n",
              "  </svg>\n",
              "      </button>\n",
              "      \n",
              "  <style>\n",
              "    .colab-df-container {\n",
              "      display:flex;\n",
              "      flex-wrap:wrap;\n",
              "      gap: 12px;\n",
              "    }\n",
              "\n",
              "    .colab-df-convert {\n",
              "      background-color: #E8F0FE;\n",
              "      border: none;\n",
              "      border-radius: 50%;\n",
              "      cursor: pointer;\n",
              "      display: none;\n",
              "      fill: #1967D2;\n",
              "      height: 32px;\n",
              "      padding: 0 0 0 0;\n",
              "      width: 32px;\n",
              "    }\n",
              "\n",
              "    .colab-df-convert:hover {\n",
              "      background-color: #E2EBFA;\n",
              "      box-shadow: 0px 1px 2px rgba(60, 64, 67, 0.3), 0px 1px 3px 1px rgba(60, 64, 67, 0.15);\n",
              "      fill: #174EA6;\n",
              "    }\n",
              "\n",
              "    [theme=dark] .colab-df-convert {\n",
              "      background-color: #3B4455;\n",
              "      fill: #D2E3FC;\n",
              "    }\n",
              "\n",
              "    [theme=dark] .colab-df-convert:hover {\n",
              "      background-color: #434B5C;\n",
              "      box-shadow: 0px 1px 3px 1px rgba(0, 0, 0, 0.15);\n",
              "      filter: drop-shadow(0px 1px 2px rgba(0, 0, 0, 0.3));\n",
              "      fill: #FFFFFF;\n",
              "    }\n",
              "  </style>\n",
              "\n",
              "      <script>\n",
              "        const buttonEl =\n",
              "          document.querySelector('#df-b01f2984-87b5-4bfb-9e09-d87112f7f9b5 button.colab-df-convert');\n",
              "        buttonEl.style.display =\n",
              "          google.colab.kernel.accessAllowed ? 'block' : 'none';\n",
              "\n",
              "        async function convertToInteractive(key) {\n",
              "          const element = document.querySelector('#df-b01f2984-87b5-4bfb-9e09-d87112f7f9b5');\n",
              "          const dataTable =\n",
              "            await google.colab.kernel.invokeFunction('convertToInteractive',\n",
              "                                                     [key], {});\n",
              "          if (!dataTable) return;\n",
              "\n",
              "          const docLinkHtml = 'Like what you see? Visit the ' +\n",
              "            '<a target=\"_blank\" href=https://colab.research.google.com/notebooks/data_table.ipynb>data table notebook</a>'\n",
              "            + ' to learn more about interactive tables.';\n",
              "          element.innerHTML = '';\n",
              "          dataTable['output_type'] = 'display_data';\n",
              "          await google.colab.output.renderOutput(dataTable, element);\n",
              "          const docLink = document.createElement('div');\n",
              "          docLink.innerHTML = docLinkHtml;\n",
              "          element.appendChild(docLink);\n",
              "        }\n",
              "      </script>\n",
              "    </div>\n",
              "  </div>\n",
              "  "
            ]
          },
          "metadata": {},
          "execution_count": 5
        }
      ]
    },
    {
      "cell_type": "code",
      "source": [
        "df_y\n",
        "#df_y.values.tolist()"
      ],
      "metadata": {
        "colab": {
          "base_uri": "https://localhost:8080/"
        },
        "id": "l26cj_NhBTk3",
        "outputId": "caff9094-058d-4d92-9f70-b24c700b2610"
      },
      "execution_count": 6,
      "outputs": [
        {
          "output_type": "execute_result",
          "data": {
            "text/plain": [
              "0      1\n",
              "1      1\n",
              "2      1\n",
              "3      1\n",
              "4      1\n",
              "      ..\n",
              "173    3\n",
              "174    3\n",
              "175    3\n",
              "176    3\n",
              "177    3\n",
              "Name: Classification, Length: 178, dtype: int64"
            ]
          },
          "metadata": {},
          "execution_count": 6
        }
      ]
    },
    {
      "cell_type": "code",
      "source": [
        "df_y"
      ],
      "metadata": {
        "colab": {
          "base_uri": "https://localhost:8080/"
        },
        "id": "yW0gHyLrFyO5",
        "outputId": "abf7f963-9963-4230-f810-e97ebe7ecb4f"
      },
      "execution_count": 7,
      "outputs": [
        {
          "output_type": "execute_result",
          "data": {
            "text/plain": [
              "0      1\n",
              "1      1\n",
              "2      1\n",
              "3      1\n",
              "4      1\n",
              "      ..\n",
              "173    3\n",
              "174    3\n",
              "175    3\n",
              "176    3\n",
              "177    3\n",
              "Name: Classification, Length: 178, dtype: int64"
            ]
          },
          "metadata": {},
          "execution_count": 7
        }
      ]
    },
    {
      "cell_type": "markdown",
      "source": [
        "Separamos en train, test y validation set"
      ],
      "metadata": {
        "id": "PtgGWZOm_QV-"
      }
    },
    {
      "cell_type": "code",
      "source": [
        "train_ratio = 0.80\n",
        "test_ratio = 0.10\n",
        "validation_ratio = 0.10\n",
        "\n",
        "\n",
        "X_train, X_test, y_train, y_test = train_test_split(df_x, df_y, test_size=test_ratio)\n",
        "\n",
        "X_train, X_valid, y_train, y_valid = train_test_split(X_train, y_train, test_size=validation_ratio/(train_ratio+test_ratio), random_state=42)\n",
        "\n",
        "print(\"X_train : \",X_train.shape)\n",
        "\n",
        "print(\"X_test : \",X_test.shape)\n",
        "\n",
        "print(\"X_valid : \",X_valid.shape) # Usar test de validación para hacer las pruebas necesarias \n",
        "# para mejorar el modelo. Hasta el final, se usa el set de prueba. \n",
        "\n"
      ],
      "metadata": {
        "colab": {
          "base_uri": "https://localhost:8080/"
        },
        "id": "gDyNH8b__EiS",
        "outputId": "56b36c93-01fb-45a3-e8f6-39413a3c9d9e"
      },
      "execution_count": 8,
      "outputs": [
        {
          "output_type": "stream",
          "name": "stdout",
          "text": [
            "X_train :  (142, 13)\n",
            "X_test :  (18, 13)\n",
            "X_valid :  (18, 13)\n"
          ]
        }
      ]
    },
    {
      "cell_type": "markdown",
      "source": [
        "# Implementación de modelo Decision Trees (**`Antes`** de aplicar ajuste de parámetros para mejorar el desempeño)"
      ],
      "metadata": {
        "id": "2qN14vhsZ7hk"
      }
    },
    {
      "cell_type": "code",
      "source": [
        "classifier = tree.DecisionTreeClassifier(criterion='gini') \n",
        "\n",
        "# Train Decision Tree Classifer\n",
        "classifier = classifier.fit(X_train, y_train)\n"
      ],
      "metadata": {
        "id": "39HWRpc6Tw9D"
      },
      "execution_count": 9,
      "outputs": []
    },
    {
      "cell_type": "markdown",
      "source": [
        "# Grado de Bias y Overfitting/Underfitting"
      ],
      "metadata": {
        "id": "6Fe0V8Kz2ErZ"
      }
    },
    {
      "cell_type": "markdown",
      "source": [
        "**Se debe asegurar que el modelo no sobreajuste ni subajuste los datos. Esto se puede hacer calculando la puntuación del Accuracy de los datos del tren y de la prueba. Si los valores son comparables, entonces el modelo no se está sobreajustando.**"
      ],
      "metadata": {
        "id": "OL3pJeb0XTCc"
      }
    },
    {
      "cell_type": "markdown",
      "source": [
        "**Para ver si hay overfitting o underfitting en el set de *TRAINING* obtenemos la métrica Accuracy que evalúa la predicción del modelo**"
      ],
      "metadata": {
        "id": "gBcaH_dHeD6K"
      }
    },
    {
      "cell_type": "code",
      "source": [
        "test_pred_train = classifier.predict(X_train)\n",
        "\n",
        "\n",
        "print(\"Accuracy del data set de entrenamiento:\" )\n",
        "\n",
        "metrics.accuracy_score(y_train, test_pred_train)  "
      ],
      "metadata": {
        "id": "CmDUQKhKc5mz",
        "outputId": "bf7bef58-5731-442d-a90a-9586192d0b70",
        "colab": {
          "base_uri": "https://localhost:8080/"
        }
      },
      "execution_count": 10,
      "outputs": [
        {
          "output_type": "stream",
          "name": "stdout",
          "text": [
            "Accuracy del data set de entrenamiento:\n"
          ]
        },
        {
          "output_type": "execute_result",
          "data": {
            "text/plain": [
              "1.0"
            ]
          },
          "metadata": {},
          "execution_count": 10
        }
      ]
    },
    {
      "cell_type": "code",
      "source": [
        "print(\"Error rate del data set de entrenamiento: \" )\n",
        "1-metrics.accuracy_score(y_train, test_pred_train)  \n"
      ],
      "metadata": {
        "colab": {
          "base_uri": "https://localhost:8080/"
        },
        "id": "j_ZMAqm13xpB",
        "outputId": "29a03e9c-a543-4080-b436-b5b513ef9a12"
      },
      "execution_count": 11,
      "outputs": [
        {
          "output_type": "stream",
          "name": "stdout",
          "text": [
            "Error rate del data set de entrenamiento: \n"
          ]
        },
        {
          "output_type": "execute_result",
          "data": {
            "text/plain": [
              "0.0"
            ]
          },
          "metadata": {},
          "execution_count": 11
        }
      ]
    },
    {
      "cell_type": "markdown",
      "source": [
        "**Para ver si hay overfitting o underfitting en el set de *VALIDACIÓN* obtenemos la métrica Accuracy que evalúa la predicción del modelo**"
      ],
      "metadata": {
        "id": "P1Ro5LRaQSiQ"
      }
    },
    {
      "cell_type": "code",
      "source": [
        "test_pred_valid = classifier.predict(X_valid) \n",
        "\n",
        "print(\"Accuracy del data set de validación: \" )\n",
        "\n",
        "metrics.accuracy_score(y_valid, test_pred_valid)"
      ],
      "metadata": {
        "colab": {
          "base_uri": "https://localhost:8080/"
        },
        "id": "GsgSqYqeAOsx",
        "outputId": "e2865b95-b7d9-4c0f-9fa7-2f98e6117096"
      },
      "execution_count": 12,
      "outputs": [
        {
          "output_type": "stream",
          "name": "stdout",
          "text": [
            "Accuracy del data set de validación: \n"
          ]
        },
        {
          "output_type": "execute_result",
          "data": {
            "text/plain": [
              "0.9444444444444444"
            ]
          },
          "metadata": {},
          "execution_count": 12
        }
      ]
    },
    {
      "cell_type": "code",
      "source": [
        "print(\"Error rate del data set de validación: \" )\n",
        "1-metrics.accuracy_score(y_valid, test_pred_valid)\n"
      ],
      "metadata": {
        "colab": {
          "base_uri": "https://localhost:8080/"
        },
        "id": "md2SRICO39jl",
        "outputId": "2d123841-1b96-46f5-b49f-99852b47a4a1"
      },
      "execution_count": 13,
      "outputs": [
        {
          "output_type": "stream",
          "name": "stdout",
          "text": [
            "Error rate del data set de validación: \n"
          ]
        },
        {
          "output_type": "execute_result",
          "data": {
            "text/plain": [
              "0.05555555555555558"
            ]
          },
          "metadata": {},
          "execution_count": 13
        }
      ]
    },
    {
      "cell_type": "markdown",
      "source": [
        "Se puede observar que no hay overfitting en el modelo ya que tanto el Accuracy del set de entrenamiento como el de set de validación son muy cercanos. Es decir, no ocurrió el escenario en el que obtiene un buen rendimiento en el training set pero un bajo desempeño en el validation set. \n",
        "\n",
        "\n",
        "Tampoco es de tipo overfitting ya que sí hace un buen trabajo prediciendo con datos nuevos. \n",
        "\n",
        "Se puede decir entonces que tiene bias equilibrado, y una varianza moderada. Claro que, no se descarta el hecho de que los Decision Trees tienen al overfitting (los cuales son conducidos por una varianza alta), a lo contrario del underfitting (donde el nivel del Bias es muy alto; el promedio de la diferencia del valor pedicho del actual es muy alto; no encuentra patrones)\n"
      ],
      "metadata": {
        "id": "90HZfgWAUEpd"
      }
    },
    {
      "cell_type": "markdown",
      "source": [
        "**Para visualizar los valores actuales vs predicciones**"
      ],
      "metadata": {
        "id": "ytD_1QrleOGF"
      }
    },
    {
      "cell_type": "code",
      "source": [
        "test_pred_valid_list = test_pred_valid.tolist()\n",
        "y_valid_list = y_valid.tolist()"
      ],
      "metadata": {
        "id": "K0rZk-bJGLSo"
      },
      "execution_count": 14,
      "outputs": []
    },
    {
      "cell_type": "code",
      "source": [
        "for i in range(len(test_pred_valid)):\n",
        "  print('Real: ',y_valid_list[i],' | Pred: ', test_pred_valid_list [i])"
      ],
      "metadata": {
        "colab": {
          "base_uri": "https://localhost:8080/"
        },
        "id": "5oXyrx1OGP5W",
        "outputId": "21c18d7a-bc8b-4bed-eae7-b49d8f38a463"
      },
      "execution_count": 15,
      "outputs": [
        {
          "output_type": "stream",
          "name": "stdout",
          "text": [
            "Real:  1  | Pred:  1\n",
            "Real:  1  | Pred:  1\n",
            "Real:  1  | Pred:  1\n",
            "Real:  2  | Pred:  2\n",
            "Real:  2  | Pred:  2\n",
            "Real:  3  | Pred:  3\n",
            "Real:  3  | Pred:  3\n",
            "Real:  2  | Pred:  2\n",
            "Real:  1  | Pred:  1\n",
            "Real:  1  | Pred:  1\n",
            "Real:  1  | Pred:  1\n",
            "Real:  2  | Pred:  2\n",
            "Real:  3  | Pred:  3\n",
            "Real:  1  | Pred:  1\n",
            "Real:  3  | Pred:  3\n",
            "Real:  1  | Pred:  1\n",
            "Real:  2  | Pred:  1\n",
            "Real:  3  | Pred:  3\n"
          ]
        }
      ]
    },
    {
      "cell_type": "code",
      "source": [
        "#sns.pairplot(df1)"
      ],
      "metadata": {
        "id": "DggJA7VAafOy"
      },
      "execution_count": 16,
      "outputs": []
    },
    {
      "cell_type": "markdown",
      "source": [
        "# Grado de variabilidad"
      ],
      "metadata": {
        "id": "Sdyu57Gy3UZD"
      }
    },
    {
      "cell_type": "markdown",
      "source": [
        "**Para checar el grado de variabilidad, sigue evaluar el desempeño del modelo Decision Tree en sets de entrenamiento y prueba con diferentes valores del parámetro max_depth**"
      ],
      "metadata": {
        "id": "xICP_I4viH5x"
      }
    },
    {
      "cell_type": "code",
      "source": [
        "# Se definen listas para guardar la métrica \"accuracy score\" para el set de entrenamiento y prueba \n",
        "# correspondientes\n",
        "train_scores, valid_scores = list(), list()\n",
        "\n",
        "# Se definen las profundidades del árbol para evaluar, en este caso que sean 10\n",
        "profundidades = [i for i in range(1, 11)]\n",
        "\n",
        "# Función for para evaluar el árbol de decisión para cada profundidad \n",
        "for i in profundidades:\n",
        "\tmodel = DecisionTreeClassifier(max_depth=i) # Va a recorrer las 10 iteraciones\n",
        "\tmodel.fit(X_train, y_train)\n",
        " \n",
        " \t# Evaluación del dataset de entrenamiento  \n",
        "\ttrain_yhat = model.predict(X_train)\n",
        "\ttrain_acc = accuracy_score(y_train, train_yhat)\n",
        "\ttrain_scores.append(train_acc)\n",
        " \n",
        "\t# Evaluación del dataset de validación\n",
        "\tvalid_yhat = model.predict(X_valid)\n",
        "\tvalid_acc = accuracy_score(y_valid, valid_yhat)\n",
        "\tvalid_scores.append(valid_acc)\n",
        " \n",
        "\t# Resumen que imprima el número de profundidad, accuracy del set de entrenamiento y accuracy del set de prueba\n",
        "\tprint('>%d, train: %.3f, test: %.3f'%(i, train_acc, valid_acc))\n",
        " \n",
        "# Plot del Accuracy de entrenamiento y prueba vs profundidades del Decision Tree \n",
        "pyplot.plot(profundidades, train_scores, '-o', label='Train')\n",
        "pyplot.plot(profundidades, valid_scores, '-o', label='Test') # validación\n",
        "\n",
        "pyplot.legend()\n",
        "pyplot.show()"
      ],
      "metadata": {
        "colab": {
          "base_uri": "https://localhost:8080/",
          "height": 439
        },
        "id": "ZUSbPNRm-bFq",
        "outputId": "fd588130-7626-4964-aa50-320e732a4648"
      },
      "execution_count": 17,
      "outputs": [
        {
          "output_type": "stream",
          "name": "stdout",
          "text": [
            ">1, train: 0.739, test: 0.667\n",
            ">2, train: 0.951, test: 0.944\n",
            ">3, train: 0.986, test: 1.000\n",
            ">4, train: 1.000, test: 1.000\n",
            ">5, train: 1.000, test: 1.000\n",
            ">6, train: 1.000, test: 0.944\n",
            ">7, train: 1.000, test: 0.944\n",
            ">8, train: 1.000, test: 0.889\n",
            ">9, train: 1.000, test: 0.944\n",
            ">10, train: 1.000, test: 0.889\n"
          ]
        },
        {
          "output_type": "display_data",
          "data": {
            "text/plain": [
              "<Figure size 432x288 with 1 Axes>"
            ],
            "image/png": "[encoded data removed]"
          },
          "metadata": {
            "needs_background": "light"
          }
        }
      ]
    },
    {
      "cell_type": "markdown",
      "source": [
        "**Mismo proceso pero añadiendo el \"Error rate\"**"
      ],
      "metadata": {
        "id": "txWyckXg-qWD"
      }
    },
    {
      "cell_type": "code",
      "source": [
        "# Se definen listas para guardar la métrica \"accuracy score\" para el set de entrenamiento y prueba \n",
        "# correspondientes, y también la lista para guardar el Error rate entre las predicciones\n",
        "train_scores, test_scores, error_rate = list(), list(), list()\n",
        "\n",
        "# Se definen las profundidades del árbol para evaluar, en este caso que sean 10\n",
        "profundidades = [i for i in range(1, 11)]\n",
        "\n",
        "# Función for para evaluar el árbol de decisión para cada profundidad \n",
        "for i in profundidades:\n",
        "\tmodel = DecisionTreeClassifier(max_depth=i) # Va a recorrer las 10 iteraciones\n",
        "\tmodel.fit(X_train, y_train)\n",
        " \n",
        " \t# Evaluación del dataset de entrenamiento  \n",
        "\ttrain_yhat = model.predict(X_train)\n",
        "\ttrain_acc = accuracy_score(y_train, train_yhat)\n",
        " \n",
        "\ttrain_scores.append(train_acc)\n",
        " \n",
        "\t# Evaluación del dataset de validación\n",
        "\tvalid_yhat = model.predict(X_valid)\n",
        "\tvalid_acc = accuracy_score(y_valid, valid_yhat)\n",
        " \n",
        "\terror_rate_valid = 1-accuracy_score(y_valid, valid_yhat)\n",
        " \n",
        "\ttest_scores.append(valid_acc)\n",
        "\terror_rate.append(error_rate_valid)\n",
        " \n",
        "\t# Resumen que imprima el número de profundidad, accuracy del set de entrenamiento y accuracy del set de prueba\n",
        "\tprint('>%d, train: %.3f, test: %.3f, error_ratio: %.3f',(i, train_acc, valid_acc, error_rate))\n",
        " \n",
        "# Plot del Accuracy de entrenamiento y prueba vs profundidades del Decision Tree \n",
        "pyplot.plot(profundidades, train_scores, '-o', label='Train')\n",
        "pyplot.plot(profundidades, valid_scores, '-o', label='Test') # label = 'test' aunque en realidad se refiere al de validación\n",
        "pyplot.plot(profundidades, error_rate, '-o', label='Error_rate')\n",
        "\n",
        "pyplot.legend()\n",
        "pyplot.show()"
      ],
      "metadata": {
        "id": "l9B4nU2FcgSJ",
        "outputId": "6bc381d8-df62-48a2-ebd4-f3fdc4a3cb62",
        "colab": {
          "base_uri": "https://localhost:8080/",
          "height": 459
        }
      },
      "execution_count": 18,
      "outputs": [
        {
          "output_type": "stream",
          "name": "stdout",
          "text": [
            ">%d, train: %.3f, test: %.3f, error_ratio: %.3f (1, 0.7394366197183099, 0.6666666666666666, [0.33333333333333337])\n",
            ">%d, train: %.3f, test: %.3f, error_ratio: %.3f (2, 0.9507042253521126, 0.9444444444444444, [0.33333333333333337, 0.05555555555555558])\n",
            ">%d, train: %.3f, test: %.3f, error_ratio: %.3f (3, 0.9859154929577465, 1.0, [0.33333333333333337, 0.05555555555555558, 0.0])\n",
            ">%d, train: %.3f, test: %.3f, error_ratio: %.3f (4, 1.0, 0.9444444444444444, [0.33333333333333337, 0.05555555555555558, 0.0, 0.05555555555555558])\n",
            ">%d, train: %.3f, test: %.3f, error_ratio: %.3f (5, 1.0, 1.0, [0.33333333333333337, 0.05555555555555558, 0.0, 0.05555555555555558, 0.0])\n",
            ">%d, train: %.3f, test: %.3f, error_ratio: %.3f (6, 1.0, 1.0, [0.33333333333333337, 0.05555555555555558, 0.0, 0.05555555555555558, 0.0, 0.0])\n",
            ">%d, train: %.3f, test: %.3f, error_ratio: %.3f (7, 1.0, 0.9444444444444444, [0.33333333333333337, 0.05555555555555558, 0.0, 0.05555555555555558, 0.0, 0.0, 0.05555555555555558])\n",
            ">%d, train: %.3f, test: %.3f, error_ratio: %.3f (8, 1.0, 0.9444444444444444, [0.33333333333333337, 0.05555555555555558, 0.0, 0.05555555555555558, 0.0, 0.0, 0.05555555555555558, 0.05555555555555558])\n",
            ">%d, train: %.3f, test: %.3f, error_ratio: %.3f (9, 1.0, 0.9444444444444444, [0.33333333333333337, 0.05555555555555558, 0.0, 0.05555555555555558, 0.0, 0.0, 0.05555555555555558, 0.05555555555555558, 0.05555555555555558])\n",
            ">%d, train: %.3f, test: %.3f, error_ratio: %.3f (10, 1.0, 0.9444444444444444, [0.33333333333333337, 0.05555555555555558, 0.0, 0.05555555555555558, 0.0, 0.0, 0.05555555555555558, 0.05555555555555558, 0.05555555555555558, 0.05555555555555558])\n"
          ]
        },
        {
          "output_type": "display_data",
          "data": {
            "text/plain": [
              "<Figure size 432x288 with 1 Axes>"
            ],
            "image/png": "[encoded data removed]"
          },
          "metadata": {
            "needs_background": "light"
          }
        }
      ]
    },
    {
      "cell_type": "markdown",
      "source": [
        "Como se observa, el modelo de Decision Tree obtiene un buen Accuracy de **0.985** al llegar una **max_depth = 3**, de la cual se observa poca variabilidad con los siguientes valores ya que son muy parecidos e intermitentes. Además, el Error rate es bastante bajo, por debajo de 0.2\n",
        "\n",
        "Si seleccionamos el valor **3** para el parámetro **max_depth**, ahorramos costo computacional no teniendo que utilizar el valor de profundidad de 10 o más, y con un Accuracy aceptable. "
      ],
      "metadata": {
        "id": "VN2EZda3l75t"
      }
    },
    {
      "cell_type": "markdown",
      "source": [
        "**Podemos `repetir el mismo proceso`, pero ahora `cambiando solamente los tamaños del set de prueba (test size)`, y checar que tanto varía la predicción del modelo según las distintas particiones, de las cuales las más comunes son las siguientes:**"
      ],
      "metadata": {
        "id": "gdKHg4a5m-uX"
      }
    },
    {
      "cell_type": "markdown",
      "source": [
        "* Train: 80%, Test: 20%\n",
        "* Train: 67%, Test: 33%\n",
        "* Train: 50%, Test: 50%\n",
        "\n"
      ],
      "metadata": {
        "id": "TQlvawECdeMO"
      }
    },
    {
      "cell_type": "markdown",
      "source": [
        "(Por fines prácticos, se utilizará el set de prueba en lugar del de validación)"
      ],
      "metadata": {
        "id": "sBsQcECN3k7s"
      }
    },
    {
      "cell_type": "code",
      "source": [
        "# Particiones\n",
        "test_sizes = [0.2, 0.33, 0.5]\n",
        "\n",
        "\n",
        "# Se definen listas para guardar la métrica \"accuracy score\" para el set de entrenamiento y prueba \n",
        "# correspondientes\n",
        "train_scores, valid_scores = list(), list()\n",
        "\n",
        "valid_sizes_values = [i for i in range(len(test_sizes))] # valid_sizes refiriéndose a tamaño de dataset de validación\n",
        "\n",
        "# Función for para evaluar el árbol de decisión para cada test_size \n",
        "for i in range(len(valid_sizes_values)):\n",
        "\n",
        "  X_train, X_test, y_train, y_test = train_test_split(df_x, df_y, test_size=test_sizes[i])\n",
        "\n",
        "  model = DecisionTreeClassifier(criterion = 'gini')\n",
        "  model.fit(X_train, y_train)\n",
        "\n",
        "\t# Evaluación del dataset de entrenamiento  \n",
        "  train_yhat = model.predict(X_train)\n",
        "  train_acc = accuracy_score(y_train, train_yhat)\n",
        "  train_scores.append(train_acc)\n",
        "\n",
        "\t# Evaluación del dataset de validación\n",
        "  valid_yhat = model.predict(X_valid)\n",
        "  valid_acc = accuracy_score(y_valid, valid_yhat)\n",
        "  valid_scores.append(valid_acc)\n",
        "\n",
        "\t# Resumen que imprima el número de test_size, accuracy del set de entrenamiento y accuracy del set de prueba\n",
        "  print('>%d, train: %.3f, test: %.3f' % (i, train_acc, valid_acc))\n",
        "\n",
        "# Plot del Accuracy de entrenamiento y prueba vs profundidades del Decision Tree \n",
        "pyplot.plot(test_sizes, train_scores, '-o', label='Train')\n",
        "pyplot.plot(test_sizes, valid_scores, '-o', label='Test') # label = Test refiriéndose al de validación\n",
        "pyplot.legend()\n",
        "pyplot.show()"
      ],
      "metadata": {
        "id": "S1XcKHfmdQj9",
        "outputId": "be060c83-1e94-40b9-b584-cdb056e20f79",
        "colab": {
          "base_uri": "https://localhost:8080/",
          "height": 317
        }
      },
      "execution_count": 19,
      "outputs": [
        {
          "output_type": "stream",
          "name": "stdout",
          "text": [
            ">0, train: 1.000, test: 0.944\n",
            ">1, train: 1.000, test: 1.000\n",
            ">2, train: 1.000, test: 0.944\n"
          ]
        },
        {
          "output_type": "display_data",
          "data": {
            "text/plain": [
              "<Figure size 432x288 with 1 Axes>"
            ],
            "image/png": "[encoded data removed]"
          },
          "metadata": {
            "needs_background": "light"
          }
        }
      ]
    },
    {
      "cell_type": "markdown",
      "source": [
        "Para este caso, se observa variabilidad en términos del desempeño del modelo con el cambio de particiones de los datasets, que realmente no es una gran diferencia pero se puede llegar a observar un ligero cambio en el valor de Accuracy para cada una, donde la mejor opción corresponde al 20% de set de prueba y 80% de set de entrenamiento, al estar equilibrado en proporciones adecuadas y logrando un Accuracy de 0.944\n",
        "\n",
        "La variabilidad es moderada, de hecho es poca. Interpretando la tercera partición correspondiente a 50% y 50%, tiene sentido que tenga un valor tan alto para Accuracy debido a que el modelo aprendió con una suficiente cantidad de datos, sin embargo, esto puede llegar a ser perjudicial más que un logro. "
      ],
      "metadata": {
        "id": "WXRWloe_6DyD"
      }
    },
    {
      "cell_type": "markdown",
      "source": [
        "# Mejoramiento del modelo implementando los resultados obtenidos"
      ],
      "metadata": {
        "id": "ERVBthPachYa"
      }
    },
    {
      "cell_type": "markdown",
      "source": [
        "Test size de 0.2"
      ],
      "metadata": {
        "id": "qO4Ew7dZCqu9"
      }
    },
    {
      "cell_type": "code",
      "source": [
        "X_train, X_test, y_train, y_test = train_test_split(df_x, df_y, test_size=0.2)\n"
      ],
      "metadata": {
        "id": "y5bzE81UCKfV"
      },
      "execution_count": 20,
      "outputs": []
    },
    {
      "cell_type": "markdown",
      "source": [
        "Profundidad de 4"
      ],
      "metadata": {
        "id": "nFTpG3dYCstM"
      }
    },
    {
      "cell_type": "code",
      "source": [
        "classifier = tree.DecisionTreeClassifier(criterion='gini', max_depth = 3) \n",
        "\n",
        "# Train Decision Tree Classifer\n",
        "classifier = classifier.fit(X_train, y_train)\n"
      ],
      "metadata": {
        "id": "zuW-wyD0BycH"
      },
      "execution_count": 24,
      "outputs": []
    },
    {
      "cell_type": "code",
      "source": [
        "test_pred_mejorado = classifier.predict(X_test) \n",
        "\n",
        "print(\"Accuracy del data set de prueba: \" )\n",
        "\n",
        "metrics.accuracy_score(y_test, test_pred_mejorado)"
      ],
      "metadata": {
        "colab": {
          "base_uri": "https://localhost:8080/"
        },
        "id": "i8mXhjic_i-Z",
        "outputId": "d9c05b8a-eaa2-490c-ccd9-e3fd9977ebf3"
      },
      "execution_count": 25,
      "outputs": [
        {
          "output_type": "stream",
          "name": "stdout",
          "text": [
            "Accuracy del data set de prueba: \n"
          ]
        },
        {
          "output_type": "execute_result",
          "data": {
            "text/plain": [
              "0.9722222222222222"
            ]
          },
          "metadata": {},
          "execution_count": 25
        }
      ]
    },
    {
      "cell_type": "markdown",
      "source": [
        "Finalmente, se ha llegado a la parte final del procedimiento. Se obtuvo un Accuracy de 0.972 ya implementando los cambios pertinentes en el modelo según lo obtenido en las pruebas de validación. Efectivamente, mantener una partición del 20% y 80% junto con la añadición del parámetro max_depth = 3, se mejoró el desempeño del modelo notablemente al incrementar de 0.944 (la primera predicción calculada) a 0.972\n",
        "\n"
      ],
      "metadata": {
        "id": "h5KYv6XlLu5s"
      }
    },
    {
      "cell_type": "markdown",
      "source": [
        "A continuación se muestran adicionalmente algunas descripciones con sus respectivas fuentes de información."
      ],
      "metadata": {
        "id": "w8tVqXxTchg5"
      }
    },
    {
      "cell_type": "markdown",
      "source": [
        "# **Para aumentar la precisión de la Predicción, necesitamos tener un modelo de baja varianza y bajo sesgo. Sin embargo, no podemos lograr esto debido a lo siguiente:**\n",
        "\n",
        "\n",
        "\n",
        "\n",
        "# **Disminuir la varianza aumentará el sesgo.**\n",
        "\n",
        "# **Disminuir el sesgo aumentará la varianza**"
      ],
      "metadata": {
        "id": "tBtAI07O_T8b"
      }
    },
    {
      "cell_type": "markdown",
      "source": [
        "# 2. Diagnóstico y explicación el grado de bias o sesgo: Bajo, medio o alto\n"
      ],
      "metadata": {
        "id": "uI9i_bzvUlkP"
      }
    },
    {
      "cell_type": "markdown",
      "source": [
        "![Screen Shot 2022-09-08 at 9.08.52.png](data:image/png;base64,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)"
      ],
      "metadata": {
        "id": "8iFD5McObsX4"
      }
    },
    {
      "cell_type": "markdown",
      "source": [
        "Bias o sesgo es la diferencia entre la predicción promedio de nuestro modelo y el valor correcto que estamos tratando de predecir.\\\n",
        "El modelo con alto sesgo presta muy poca atención a los datos de entrenamiento y simplifica demasiado el modelo. Siempre conduce a un alto error en los datos de entrenamiento y prueba.\n",
        "Fuente: https://towardsdatascience.com/understanding-the-bias-variance-tradeoff-165e6942b229"
      ],
      "metadata": {
        "id": "gjPWAP4VUadL"
      }
    },
    {
      "cell_type": "markdown",
      "source": [
        "Cuando el sesgo es alto, las suposiciones hechas por nuestro modelo son demasiado básicas, el modelo no puede capturar las características importantes de nuestros datos. Esto significa que nuestro modelo no ha capturado patrones en los datos de entrenamiento y, por lo tanto, tampoco puede funcionar bien en los datos de prueba. Si este es el caso, nuestro modelo no puede funcionar con datos nuevos y no puede enviarse a producción.\n",
        "\n",
        "Esta instancia, en la que el modelo no puede encontrar patrones en nuestro conjunto de entrenamiento y, por lo tanto, falla tanto para los datos visibles como para los no visibles, se denomina subajuste.\n",
        "Fuente: https://www.simplilearn.com/tutorials/machine-learning-tutorial/bias-and-variance"
      ],
      "metadata": {
        "id": "0a_de-fWb7Zt"
      }
    },
    {
      "cell_type": "markdown",
      "source": [
        "High Bias can be identified when we have:\n",
        "\n",
        "* High training error (higher than acceptable test error)\n",
        "* Test error is almost same as training error\n",
        "\n",
        "\n",
        "\n",
        "https://medium.com/analytics-vidhya/difference-between-bias-and-variance-in-machine-learning-fec71880c757"
      ],
      "metadata": {
        "id": "kJW00dKv-8sP"
      }
    },
    {
      "cell_type": "markdown",
      "source": [
        "High Bias is due to a simple model. Consider the following to reduce High Bias:\n",
        "\n",
        "* Use more complex model (Ex: add polynomial features)\n",
        "* Increase input features\n",
        "* Decrease Regularization term\n"
      ],
      "metadata": {
        "id": "LqnGXM2M_JHd"
      }
    },
    {
      "cell_type": "markdown",
      "source": [
        "# 3. Diagnóstico y explicación el grado de varianza: Bajo, medio o alto"
      ],
      "metadata": {
        "id": "v4f60eFTUtNx"
      }
    },
    {
      "cell_type": "markdown",
      "source": [
        "La varianza es la variabilidad de la predicción del modelo para un punto de datos dado o un valor que nos indica la dispersión de nuestros datos. El modelo con alta varianza presta mucha atención a los datos de entrenamiento y no generaliza sobre los datos que no ha visto antes. Como resultado, estos modelos funcionan muy bien con los datos de entrenamiento, pero tienen altas tasas de error con los datos de prueba. \n",
        "Fuente: https://towardsdatascience.com/understanding-the-bias-variance-tradeoff-165e6942b229"
      ],
      "metadata": {
        "id": "XCmCrlXXVgBd"
      }
    },
    {
      "cell_type": "markdown",
      "source": [
        "High Variance can be identified when we have:\n",
        "\n",
        "Low training error (lower than acceptable test error)\n",
        "High test error (higher than acceptable test error)\n",
        "\n",
        "\n",
        "https://medium.com/analytics-vidhya/difference-between-bias-and-variance-in-machine-learning-fec71880c757"
      ],
      "metadata": {
        "id": "7s-avJTY-xiE"
      }
    },
    {
      "cell_type": "markdown",
      "source": [
        "How to address High Variance or High Bias?\n",
        "* High Variance is due to a model that tries to fit most of the training dataset points making it complex. Consider the following to reduce High Variance:\n",
        "\n",
        "* Reduce input features(because you are overfitting)\n",
        "* Use less complex model\n",
        "* Include more training data\n",
        "* Increase Regularization term"
      ],
      "metadata": {
        "id": "R1avW1Qj_GvE"
      }
    },
    {
      "cell_type": "markdown",
      "source": [
        "# 4. Diagnóstico y explicación el nivel de ajuste del modelo: Underfitt, fitt, overfitt\n"
      ],
      "metadata": {
        "id": "xDl10siyU0nn"
      }
    },
    {
      "cell_type": "markdown",
      "source": [
        "En el aprendizaje supervisado, el **underfitting** ocurre cuando un modelo no puede capturar el patrón de los datos. Estos modelos suelen tener un **alto sesgo y una baja varianza**. **Ocurre cuando tenemos muy poca cantidad de datos** para construir un modelo preciso o cuando intentamos construir un modelo lineal con datos no lineales."
      ],
      "metadata": {
        "id": "AN5j8tqiWAOL"
      }
    },
    {
      "cell_type": "markdown",
      "source": [
        "El **overfitting** ocurre cuando nuestro modelo captura el ruido junto con el patrón en los datos. **Ocurre cuando entrenamos mucho nuestro modelo sobre un conjunto de datos ruidoso.** Estos modelos tienen un **sesgo bajo y una varianza alta**.\n",
        "\n",
        "Estos modelos son muy complejos, como los *árboles de decisión*, que tienden a **sobreajustarse**."
      ],
      "metadata": {
        "id": "dN5WGLv8Wgi2"
      }
    },
    {
      "cell_type": "markdown",
      "source": [
        "Si nuestro modelo es demasiado simple y tiene muy pocos parámetros, entonces puede tener un alto sesgo y una baja varianza. Por otro lado, si nuestro modelo tiene una gran cantidad de parámetros, tendrá una varianza alta y un sesgo bajo. Por lo tanto, **debemos encontrar el equilibrio correcto/bueno sin sobreajustar o desadaptar los datos.**"
      ],
      "metadata": {
        "id": "QjBxQ6ILWwkL"
      }
    }
  ]
}