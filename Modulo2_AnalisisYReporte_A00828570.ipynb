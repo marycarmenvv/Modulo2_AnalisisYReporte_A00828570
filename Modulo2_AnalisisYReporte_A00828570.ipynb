{
  "nbformat": 4,
  "nbformat_minor": 0,
  "metadata": {
    "colab": {
      "provenance": [],
      "mount_file_id": "1sUr3nU4o-8RBH4t6WFmtE7LdgEV9OqrL",
      "authorship_tag": "ABX9TyP8x6YapQtn32S1CJVDkqzj",
      "include_colab_link": true
    },
    "kernelspec": {
      "name": "python3",
      "display_name": "Python 3"
    },
    "language_info": {
      "name": "python"
    }
  },
  "cells": [
    {
      "cell_type": "markdown",
      "metadata": {
        "id": "view-in-github",
        "colab_type": "text"
      },
      "source": [
        "<a href=\"https://colab.research.google.com/github/marycarmenvv/Modulo2_AnalisisYReporte_A00828570/blob/main/Modulo2_AnalisisYReporte_A00828570.ipynb\" target=\"_parent\"><img src=\"https://colab.research.google.com/assets/colab-badge.svg\" alt=\"Open In Colab\"/></a>"
      ]
    },
    {
      "cell_type": "markdown",
      "source": [
        "# **Momento de Retroalimentación: Módulo 2 Análisis y Reporte sobre el desempeño del modelo. (Portafolio Análisis)**\n",
        "# María del Carmen Vargas Villarreal A00828570\n"
      ],
      "metadata": {
        "id": "3qRZ8hFrOpSc"
      }
    },
    {
      "cell_type": "code",
      "execution_count": 1,
      "metadata": {
        "id": "I5dTGyLsNThu"
      },
      "outputs": [],
      "source": [
        "import numpy as np\n",
        "import pandas as pd"
      ]
    },
    {
      "cell_type": "code",
      "source": [
        "df = pd.read_csv('/content/drive/MyDrive/Colab Notebooks/Iris.csv')\n",
        "df"
      ],
      "metadata": {
        "id": "MX60-l6GTwmp"
      },
      "execution_count": null,
      "outputs": []
    },
    {
      "cell_type": "code",
      "source": [],
      "metadata": {
        "id": "wmVv42A-Twx2"
      },
      "execution_count": null,
      "outputs": []
    },
    {
      "cell_type": "code",
      "source": [],
      "metadata": {
        "id": "oTriOG2GTw5I"
      },
      "execution_count": null,
      "outputs": []
    },
    {
      "cell_type": "code",
      "source": [
        "print(\"X_train : \",X_train.shape)\n",
        "\n",
        "print(\"X_test : \",X_test.shape)\n",
        "\n",
        "print(\"y_train : \",Y_train.shape)\n",
        "\n",
        "print(\"y_test : \",Y_test.shape)"
      ],
      "metadata": {
        "id": "39HWRpc6Tw9D"
      },
      "execution_count": null,
      "outputs": []
    }
  ]
}